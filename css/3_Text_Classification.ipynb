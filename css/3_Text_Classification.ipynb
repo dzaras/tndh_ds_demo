{
 "cells": [
  {
   "cell_type": "code",
   "execution_count": null,
   "metadata": {
    "colab": {
     "base_uri": "https://localhost:8080/"
    },
    "executionInfo": {
     "elapsed": 18201,
     "status": "ok",
     "timestamp": 1628467960387,
     "user": {
      "displayName": "Jiaao Chen",
      "photoUrl": "https://lh3.googleusercontent.com/a-/AOh14GjUCQMroRzHG3EnPAZN5SyYw0RfkKUVUh9qzYxZ=s64",
      "userId": "08215740097147588674"
     },
     "user_tz": 240
    },
    "id": "nD1ZrE7QasRE",
    "outputId": "13615390-b75d-4a54-f74c-0fc3d08d0f98"
   },
   "outputs": [
    {
     "name": "stdout",
     "output_type": "stream",
     "text": [
      "Requirement already satisfied: nltk in /usr/local/lib/python3.7/dist-packages (3.2.5)\n",
      "Requirement already satisfied: six in /usr/local/lib/python3.7/dist-packages (from nltk) (1.15.0)\n",
      "Requirement already satisfied: numpy in /usr/local/lib/python3.7/dist-packages (1.19.5)\n",
      "Requirement already satisfied: matplotlib in /usr/local/lib/python3.7/dist-packages (3.2.2)\n",
      "Requirement already satisfied: python-dateutil>=2.1 in /usr/local/lib/python3.7/dist-packages (from matplotlib) (2.8.1)\n",
      "Requirement already satisfied: kiwisolver>=1.0.1 in /usr/local/lib/python3.7/dist-packages (from matplotlib) (1.3.1)\n",
      "Requirement already satisfied: pyparsing!=2.0.4,!=2.1.2,!=2.1.6,>=2.0.1 in /usr/local/lib/python3.7/dist-packages (from matplotlib) (2.4.7)\n",
      "Requirement already satisfied: cycler>=0.10 in /usr/local/lib/python3.7/dist-packages (from matplotlib) (0.10.0)\n",
      "Requirement already satisfied: six in /usr/local/lib/python3.7/dist-packages (from cycler>=0.10->matplotlib) (1.15.0)\n",
      "Requirement already satisfied: pandas in /usr/local/lib/python3.7/dist-packages (1.1.5)\n",
      "Requirement already satisfied: pytz>=2017.2 in /usr/local/lib/python3.7/dist-packages (from pandas) (2018.9)\n",
      "Requirement already satisfied: python-dateutil>=2.7.3 in /usr/local/lib/python3.7/dist-packages (from pandas) (2.8.1)\n",
      "Requirement already satisfied: numpy>=1.15.4 in /usr/local/lib/python3.7/dist-packages (from pandas) (1.19.5)\n",
      "Requirement already satisfied: six>=1.5 in /usr/local/lib/python3.7/dist-packages (from python-dateutil>=2.7.3->pandas) (1.15.0)\n",
      "Requirement already satisfied: gensim in /usr/local/lib/python3.7/dist-packages (3.6.0)\n",
      "Requirement already satisfied: six>=1.5.0 in /usr/local/lib/python3.7/dist-packages (from gensim) (1.15.0)\n",
      "Requirement already satisfied: scipy>=0.18.1 in /usr/local/lib/python3.7/dist-packages (from gensim) (1.4.1)\n",
      "Requirement already satisfied: numpy>=1.11.3 in /usr/local/lib/python3.7/dist-packages (from gensim) (1.19.5)\n",
      "Requirement already satisfied: smart-open>=1.2.1 in /usr/local/lib/python3.7/dist-packages (from gensim) (5.1.0)\n",
      "Requirement already satisfied: sklearn in /usr/local/lib/python3.7/dist-packages (0.0)\n",
      "Requirement already satisfied: scikit-learn in /usr/local/lib/python3.7/dist-packages (from sklearn) (0.22.2.post1)\n",
      "Requirement already satisfied: numpy>=1.11.0 in /usr/local/lib/python3.7/dist-packages (from scikit-learn->sklearn) (1.19.5)\n",
      "Requirement already satisfied: scipy>=0.17.0 in /usr/local/lib/python3.7/dist-packages (from scikit-learn->sklearn) (1.4.1)\n",
      "Requirement already satisfied: joblib>=0.11 in /usr/local/lib/python3.7/dist-packages (from scikit-learn->sklearn) (1.0.1)\n"
     ]
    }
   ],
   "source": [
    "!pip install nltk\n",
    "!pip install numpy matplotlib\n",
    "!pip install pandas\n",
    "!pip install gensim\n",
    "!pip install sklearn"
   ]
  },
  {
   "cell_type": "markdown",
   "metadata": {
    "id": "ognOoMmsQWFO"
   },
   "source": [
    "# Overview\n",
    "## 1. Metrics for Text Classification\n",
    "\n",
    "## 2. Example: Text Classification with LogisticRegression\n",
    "\n",
    "## 3. Exercise: Hate-speech Classification \n"
   ]
  },
  {
   "cell_type": "code",
   "execution_count": null,
   "metadata": {
    "colab": {
     "base_uri": "https://localhost:8080/"
    },
    "executionInfo": {
     "elapsed": 1007,
     "status": "ok",
     "timestamp": 1628468420031,
     "user": {
      "displayName": "Jiaao Chen",
      "photoUrl": "https://lh3.googleusercontent.com/a-/AOh14GjUCQMroRzHG3EnPAZN5SyYw0RfkKUVUh9qzYxZ=s64",
      "userId": "08215740097147588674"
     },
     "user_tz": 240
    },
    "id": "yoGvXCcSRmNO",
    "outputId": "28c11842-4945-43cc-ddb4-91f05f19ce39"
   },
   "outputs": [
    {
     "name": "stdout",
     "output_type": "stream",
     "text": [
      "['rec.autos' 'comp.sys.mac.hardware' 'comp.graphics' 'sci.space'\n",
      " 'talk.politics.guns' 'sci.med' 'comp.sys.ibm.pc.hardware'\n",
      " 'comp.os.ms-windows.misc' 'rec.motorcycles' 'talk.religion.misc'\n",
      " 'misc.forsale' 'alt.atheism' 'sci.electronics' 'comp.windows.x'\n",
      " 'rec.sport.hockey' 'rec.sport.baseball' 'soc.religion.christian'\n",
      " 'talk.politics.mideast' 'talk.politics.misc' 'sci.crypt']\n"
     ]
    }
   ],
   "source": [
    "import pandas as pd\n",
    "\n",
    "# Here we use 20-Newsgroups dataset (http://qwone.com/~jason/20Newsgroups/) for this example. \n",
    "# This version of the dataset contains about 11k newsgroups posts from 20 different topics. \n",
    "# This is available as https://raw.githubusercontent.com/selva86/datasets/master/newsgroups.json\n",
    "\n",
    "raw_data = pd.read_json('https://raw.githubusercontent.com/selva86/datasets/master/newsgroups.json')\n",
    "print(raw_data.target_names.unique())"
   ]
  },
  {
   "cell_type": "code",
   "execution_count": null,
   "metadata": {
    "colab": {
     "base_uri": "https://localhost:8080/",
     "height": 419
    },
    "executionInfo": {
     "elapsed": 223,
     "status": "ok",
     "timestamp": 1628469787450,
     "user": {
      "displayName": "Jiaao Chen",
      "photoUrl": "https://lh3.googleusercontent.com/a-/AOh14GjUCQMroRzHG3EnPAZN5SyYw0RfkKUVUh9qzYxZ=s64",
      "userId": "08215740097147588674"
     },
     "user_tz": 240
    },
    "id": "Lv8NV7fvSBjJ",
    "outputId": "dfab6056-4e75-4d36-ef60-d80fa53737cf"
   },
   "outputs": [
    {
     "data": {
      "text/html": [
       "<div>\n",
       "<style scoped>\n",
       "    .dataframe tbody tr th:only-of-type {\n",
       "        vertical-align: middle;\n",
       "    }\n",
       "\n",
       "    .dataframe tbody tr th {\n",
       "        vertical-align: top;\n",
       "    }\n",
       "\n",
       "    .dataframe thead th {\n",
       "        text-align: right;\n",
       "    }\n",
       "</style>\n",
       "<table border=\"1\" class=\"dataframe\">\n",
       "  <thead>\n",
       "    <tr style=\"text-align: right;\">\n",
       "      <th></th>\n",
       "      <th>content</th>\n",
       "      <th>target</th>\n",
       "      <th>target_names</th>\n",
       "    </tr>\n",
       "  </thead>\n",
       "  <tbody>\n",
       "    <tr>\n",
       "      <th>0</th>\n",
       "      <td>From: lerxst@wam.umd.edu (where's my thing)\\nS...</td>\n",
       "      <td>7</td>\n",
       "      <td>rec.autos</td>\n",
       "    </tr>\n",
       "    <tr>\n",
       "      <th>1</th>\n",
       "      <td>From: guykuo@carson.u.washington.edu (Guy Kuo)...</td>\n",
       "      <td>4</td>\n",
       "      <td>comp.sys.mac.hardware</td>\n",
       "    </tr>\n",
       "    <tr>\n",
       "      <th>2</th>\n",
       "      <td>From: twillis@ec.ecn.purdue.edu (Thomas E Will...</td>\n",
       "      <td>4</td>\n",
       "      <td>comp.sys.mac.hardware</td>\n",
       "    </tr>\n",
       "    <tr>\n",
       "      <th>3</th>\n",
       "      <td>From: jgreen@amber (Joe Green)\\nSubject: Re: W...</td>\n",
       "      <td>1</td>\n",
       "      <td>comp.graphics</td>\n",
       "    </tr>\n",
       "    <tr>\n",
       "      <th>4</th>\n",
       "      <td>From: jcm@head-cfa.harvard.edu (Jonathan McDow...</td>\n",
       "      <td>14</td>\n",
       "      <td>sci.space</td>\n",
       "    </tr>\n",
       "    <tr>\n",
       "      <th>...</th>\n",
       "      <td>...</td>\n",
       "      <td>...</td>\n",
       "      <td>...</td>\n",
       "    </tr>\n",
       "    <tr>\n",
       "      <th>11309</th>\n",
       "      <td>From: jim.zisfein@factory.com (Jim Zisfein) \\n...</td>\n",
       "      <td>13</td>\n",
       "      <td>sci.med</td>\n",
       "    </tr>\n",
       "    <tr>\n",
       "      <th>11310</th>\n",
       "      <td>From: ebodin@pearl.tufts.edu\\nSubject: Screen ...</td>\n",
       "      <td>4</td>\n",
       "      <td>comp.sys.mac.hardware</td>\n",
       "    </tr>\n",
       "    <tr>\n",
       "      <th>11311</th>\n",
       "      <td>From: westes@netcom.com (Will Estes)\\nSubject:...</td>\n",
       "      <td>3</td>\n",
       "      <td>comp.sys.ibm.pc.hardware</td>\n",
       "    </tr>\n",
       "    <tr>\n",
       "      <th>11312</th>\n",
       "      <td>From: steve@hcrlgw (Steven Collins)\\nSubject: ...</td>\n",
       "      <td>1</td>\n",
       "      <td>comp.graphics</td>\n",
       "    </tr>\n",
       "    <tr>\n",
       "      <th>11313</th>\n",
       "      <td>From: gunning@cco.caltech.edu (Kevin J. Gunnin...</td>\n",
       "      <td>8</td>\n",
       "      <td>rec.motorcycles</td>\n",
       "    </tr>\n",
       "  </tbody>\n",
       "</table>\n",
       "<p>11314 rows × 3 columns</p>\n",
       "</div>"
      ],
      "text/plain": [
       "                                                 content  ...              target_names\n",
       "0      From: lerxst@wam.umd.edu (where's my thing)\\nS...  ...                 rec.autos\n",
       "1      From: guykuo@carson.u.washington.edu (Guy Kuo)...  ...     comp.sys.mac.hardware\n",
       "2      From: twillis@ec.ecn.purdue.edu (Thomas E Will...  ...     comp.sys.mac.hardware\n",
       "3      From: jgreen@amber (Joe Green)\\nSubject: Re: W...  ...             comp.graphics\n",
       "4      From: jcm@head-cfa.harvard.edu (Jonathan McDow...  ...                 sci.space\n",
       "...                                                  ...  ...                       ...\n",
       "11309  From: jim.zisfein@factory.com (Jim Zisfein) \\n...  ...                   sci.med\n",
       "11310  From: ebodin@pearl.tufts.edu\\nSubject: Screen ...  ...     comp.sys.mac.hardware\n",
       "11311  From: westes@netcom.com (Will Estes)\\nSubject:...  ...  comp.sys.ibm.pc.hardware\n",
       "11312  From: steve@hcrlgw (Steven Collins)\\nSubject: ...  ...             comp.graphics\n",
       "11313  From: gunning@cco.caltech.edu (Kevin J. Gunnin...  ...           rec.motorcycles\n",
       "\n",
       "[11314 rows x 3 columns]"
      ]
     },
     "execution_count": 25,
     "metadata": {
      "tags": []
     },
     "output_type": "execute_result"
    }
   ],
   "source": [
    "raw_data"
   ]
  },
  {
   "cell_type": "code",
   "execution_count": null,
   "metadata": {
    "id": "1iwz758mXQOG"
   },
   "outputs": [],
   "source": [
    "# Read the text for classification\n",
    "text = []\n",
    "for i in range(0, len(raw_data['content'])):\n",
    "  text.append(raw_data['content'][i])"
   ]
  },
  {
   "cell_type": "code",
   "execution_count": null,
   "metadata": {
    "id": "5brJD8CkXR-_"
   },
   "outputs": [],
   "source": [
    "# Read the labels \n",
    "labels = []\n",
    "for i in range(0, len(raw_data['target'])):\n",
    "  labels.append(raw_data['target'][i])"
   ]
  },
  {
   "cell_type": "markdown",
   "metadata": {
    "id": "NABRP1qpSEAy"
   },
   "source": [
    "# Metrics for Text Classification\n",
    "\n",
    "In this section, we will go through how to compute different metrics for classification tasks with sklearn. \n",
    "\n",
    "Basically, you need to input a list of predicted lables and the ground truth, and the built-in function will return the calculated results"
   ]
  },
  {
   "cell_type": "markdown",
   "metadata": {
    "id": "6EcR8BlmSgUh"
   },
   "source": [
    "## Accuracy: "
   ]
  },
  {
   "cell_type": "code",
   "execution_count": null,
   "metadata": {
    "id": "wyOR89nYSGSs"
   },
   "outputs": [],
   "source": [
    "from sklearn.metrics import accuracy_score"
   ]
  },
  {
   "cell_type": "code",
   "execution_count": null,
   "metadata": {
    "id": "TQWP5jfjSu90"
   },
   "outputs": [],
   "source": [
    "y_pred = [0, 2, 1, 3]\n",
    "y_true = [0, 1, 2, 3]"
   ]
  },
  {
   "cell_type": "code",
   "execution_count": null,
   "metadata": {
    "colab": {
     "base_uri": "https://localhost:8080/"
    },
    "executionInfo": {
     "elapsed": 191,
     "status": "ok",
     "timestamp": 1628468700727,
     "user": {
      "displayName": "Jiaao Chen",
      "photoUrl": "https://lh3.googleusercontent.com/a-/AOh14GjUCQMroRzHG3EnPAZN5SyYw0RfkKUVUh9qzYxZ=s64",
      "userId": "08215740097147588674"
     },
     "user_tz": 240
    },
    "id": "ETJuqUCRTFcK",
    "outputId": "6629623a-a52e-47a4-dd6b-3499f5633350"
   },
   "outputs": [
    {
     "data": {
      "text/plain": [
       "0.5"
      ]
     },
     "execution_count": 6,
     "metadata": {
      "tags": []
     },
     "output_type": "execute_result"
    }
   ],
   "source": [
    "accuracy_score(y_true, y_pred)"
   ]
  },
  {
   "cell_type": "markdown",
   "metadata": {
    "id": "_cvz4eSuTNBW"
   },
   "source": [
    "## Precission, Recall and F1\n",
    "\n",
    "Note: Macro vs Micro:\n",
    "\n",
    "Macro: Calculate metrics for each label, and find their unweighted mean.\n",
    "\n",
    "Micro: Calculate metrics globally by counting the total true positives, false negatives and false positives."
   ]
  },
  {
   "cell_type": "code",
   "execution_count": null,
   "metadata": {
    "id": "anWGCxMdTPnm"
   },
   "outputs": [],
   "source": [
    "from sklearn.metrics import precision_score\n",
    "from sklearn.metrics import recall_score\n",
    "from sklearn.metrics import f1_score"
   ]
  },
  {
   "cell_type": "code",
   "execution_count": null,
   "metadata": {
    "id": "AAd81VHqTa2z"
   },
   "outputs": [],
   "source": [
    "y_true = [0, 1, 2, 0, 1, 2]\n",
    "y_pred = [0, 2, 1, 0, 0, 1]"
   ]
  },
  {
   "cell_type": "code",
   "execution_count": null,
   "metadata": {
    "colab": {
     "base_uri": "https://localhost:8080/"
    },
    "executionInfo": {
     "elapsed": 4,
     "status": "ok",
     "timestamp": 1628468892968,
     "user": {
      "displayName": "Jiaao Chen",
      "photoUrl": "https://lh3.googleusercontent.com/a-/AOh14GjUCQMroRzHG3EnPAZN5SyYw0RfkKUVUh9qzYxZ=s64",
      "userId": "08215740097147588674"
     },
     "user_tz": 240
    },
    "id": "rqLpFVQiTdUh",
    "outputId": "b3adba00-81e8-4aaa-f547-09729911547f"
   },
   "outputs": [
    {
     "data": {
      "text/plain": [
       "0.2222222222222222"
      ]
     },
     "execution_count": 14,
     "metadata": {
      "tags": []
     },
     "output_type": "execute_result"
    }
   ],
   "source": [
    "precision_score(y_true, y_pred, average='macro')"
   ]
  },
  {
   "cell_type": "code",
   "execution_count": null,
   "metadata": {
    "colab": {
     "base_uri": "https://localhost:8080/"
    },
    "executionInfo": {
     "elapsed": 3,
     "status": "ok",
     "timestamp": 1628468893630,
     "user": {
      "displayName": "Jiaao Chen",
      "photoUrl": "https://lh3.googleusercontent.com/a-/AOh14GjUCQMroRzHG3EnPAZN5SyYw0RfkKUVUh9qzYxZ=s64",
      "userId": "08215740097147588674"
     },
     "user_tz": 240
    },
    "id": "vvQXORwfThAF",
    "outputId": "e8c07737-1d45-4ba9-9892-37c6ae370497"
   },
   "outputs": [
    {
     "data": {
      "text/plain": [
       "0.3333333333333333"
      ]
     },
     "execution_count": 15,
     "metadata": {
      "tags": []
     },
     "output_type": "execute_result"
    }
   ],
   "source": [
    "precision_score(y_true, y_pred, average='micro')"
   ]
  },
  {
   "cell_type": "code",
   "execution_count": null,
   "metadata": {
    "colab": {
     "base_uri": "https://localhost:8080/"
    },
    "executionInfo": {
     "elapsed": 212,
     "status": "ok",
     "timestamp": 1628468899219,
     "user": {
      "displayName": "Jiaao Chen",
      "photoUrl": "https://lh3.googleusercontent.com/a-/AOh14GjUCQMroRzHG3EnPAZN5SyYw0RfkKUVUh9qzYxZ=s64",
      "userId": "08215740097147588674"
     },
     "user_tz": 240
    },
    "id": "rhsSeDXSTkFj",
    "outputId": "720dfea3-0b70-4303-b1ef-feba7a3d7a04"
   },
   "outputs": [
    {
     "data": {
      "text/plain": [
       "0.3333333333333333"
      ]
     },
     "execution_count": 16,
     "metadata": {
      "tags": []
     },
     "output_type": "execute_result"
    }
   ],
   "source": [
    "recall_score(y_true, y_pred, average='macro')"
   ]
  },
  {
   "cell_type": "code",
   "execution_count": null,
   "metadata": {
    "colab": {
     "base_uri": "https://localhost:8080/"
    },
    "executionInfo": {
     "elapsed": 193,
     "status": "ok",
     "timestamp": 1628468904793,
     "user": {
      "displayName": "Jiaao Chen",
      "photoUrl": "https://lh3.googleusercontent.com/a-/AOh14GjUCQMroRzHG3EnPAZN5SyYw0RfkKUVUh9qzYxZ=s64",
      "userId": "08215740097147588674"
     },
     "user_tz": 240
    },
    "id": "oatcv-YXT2vD",
    "outputId": "cdfbc7cf-085f-440f-8c29-d95dacd9d8e7"
   },
   "outputs": [
    {
     "data": {
      "text/plain": [
       "0.3333333333333333"
      ]
     },
     "execution_count": 17,
     "metadata": {
      "tags": []
     },
     "output_type": "execute_result"
    }
   ],
   "source": [
    "recall_score(y_true, y_pred, average='micro')"
   ]
  },
  {
   "cell_type": "code",
   "execution_count": null,
   "metadata": {
    "colab": {
     "base_uri": "https://localhost:8080/"
    },
    "executionInfo": {
     "elapsed": 232,
     "status": "ok",
     "timestamp": 1628468912186,
     "user": {
      "displayName": "Jiaao Chen",
      "photoUrl": "https://lh3.googleusercontent.com/a-/AOh14GjUCQMroRzHG3EnPAZN5SyYw0RfkKUVUh9qzYxZ=s64",
      "userId": "08215740097147588674"
     },
     "user_tz": 240
    },
    "id": "sL9BFHgLT4Ft",
    "outputId": "c13051a9-0212-4184-ffcd-5b396cec61e0"
   },
   "outputs": [
    {
     "data": {
      "text/plain": [
       "0.26666666666666666"
      ]
     },
     "execution_count": 18,
     "metadata": {
      "tags": []
     },
     "output_type": "execute_result"
    }
   ],
   "source": [
    "f1_score(y_true, y_pred, average='macro')"
   ]
  },
  {
   "cell_type": "code",
   "execution_count": null,
   "metadata": {
    "colab": {
     "base_uri": "https://localhost:8080/"
    },
    "executionInfo": {
     "elapsed": 361,
     "status": "ok",
     "timestamp": 1628468918771,
     "user": {
      "displayName": "Jiaao Chen",
      "photoUrl": "https://lh3.googleusercontent.com/a-/AOh14GjUCQMroRzHG3EnPAZN5SyYw0RfkKUVUh9qzYxZ=s64",
      "userId": "08215740097147588674"
     },
     "user_tz": 240
    },
    "id": "OM511eGLT55C",
    "outputId": "982802fd-6575-4af8-968c-1950c7a9cefe"
   },
   "outputs": [
    {
     "data": {
      "text/plain": [
       "0.3333333333333333"
      ]
     },
     "execution_count": 19,
     "metadata": {
      "tags": []
     },
     "output_type": "execute_result"
    }
   ],
   "source": [
    "f1_score(y_true, y_pred, average='micro')"
   ]
  },
  {
   "cell_type": "markdown",
   "metadata": {
    "id": "TDiielK-V3Zt"
   },
   "source": [
    "# Example: Text Classification with LogisticRegression\n",
    "\n",
    "In this section we will go through the process to perform text classification with LogisticRegression using sklearn.\n",
    "\n",
    "Basically, we need first extract text representation with sklearn and then utilize built-in model in sklearn to learn the classification model.\n",
    "\n",
    "Here let's use the 20-newsgroup data as an example."
   ]
  },
  {
   "cell_type": "markdown",
   "metadata": {
    "id": "iOn3PQ5DWYPU"
   },
   "source": [
    "## Text Representation\n",
    "\n",
    "The first step is to represent text with vectors/features such as bag-of-words, tf-idf features.  Here we will use extract tf-idf features as an example. More features could be found here: https://scikit-learn.org/stable/modules/classes.html#module-sklearn.feature_extraction.text"
   ]
  },
  {
   "cell_type": "code",
   "execution_count": null,
   "metadata": {
    "id": "fc55Us8OWZPD"
   },
   "outputs": [],
   "source": [
    "from sklearn.feature_extraction.text import TfidfVectorizer\n",
    "tfidf = TfidfVectorizer(ngram_range=(1, 2), stop_words='english')"
   ]
  },
  {
   "cell_type": "code",
   "execution_count": null,
   "metadata": {
    "id": "D-DnkCZJXJat"
   },
   "outputs": [],
   "source": [
    "features = tfidf.fit_transform(text)"
   ]
  },
  {
   "cell_type": "code",
   "execution_count": null,
   "metadata": {
    "colab": {
     "base_uri": "https://localhost:8080/"
    },
    "executionInfo": {
     "elapsed": 190,
     "status": "ok",
     "timestamp": 1628470095030,
     "user": {
      "displayName": "Jiaao Chen",
      "photoUrl": "https://lh3.googleusercontent.com/a-/AOh14GjUCQMroRzHG3EnPAZN5SyYw0RfkKUVUh9qzYxZ=s64",
      "userId": "08215740097147588674"
     },
     "user_tz": 240
    },
    "id": "CBE0w7ACYTXp",
    "outputId": "600c8e20-ab1c-49de-9da9-7f3b7019df42"
   },
   "outputs": [
    {
     "data": {
      "text/plain": [
       "(11314, 1186545)"
      ]
     },
     "execution_count": 33,
     "metadata": {
      "tags": []
     },
     "output_type": "execute_result"
    }
   ],
   "source": [
    "features.shape"
   ]
  },
  {
   "cell_type": "markdown",
   "metadata": {
    "id": "9ppFihrQfp4W"
   },
   "source": [
    "## Learning the Classification Model\n",
    "\n",
    "There are many different models in sklearn such as Naive Bayes Classifier, Logistic Regression Classifier, Linear Support Vector Machine, and etc. Here we use Logistic Regression Classifier as an example. More details cound be found here: https://scikit-learn.org/stable/supervised_learning.html#supervised-learning"
   ]
  },
  {
   "cell_type": "code",
   "execution_count": null,
   "metadata": {
    "id": "sjhGK12vhDBh"
   },
   "outputs": [],
   "source": [
    "from sklearn.model_selection import train_test_split\n",
    "from sklearn.feature_extraction.text import TfidfVectorizer\n",
    "\n",
    "# We first split the original data into train and test set\n",
    "X_train, X_test, y_train, y_test = train_test_split(text, labels, random_state = 0)\n",
    "\n",
    "# Extract features\n",
    "tfidf = TfidfVectorizer(ngram_range=(1, 2), stop_words='english')\n",
    "tfidf.fit(X_train)\n",
    "X_train_features = tfidf.transform(X_train)\n",
    "\n",
    "X_test_features = tfidf.transform(X_test)"
   ]
  },
  {
   "cell_type": "code",
   "execution_count": null,
   "metadata": {
    "id": "74n4ZZvBg1Gb"
   },
   "outputs": [],
   "source": [
    "# Bayes Classifier\n",
    "from sklearn.naive_bayes import MultinomialNB\n",
    "# Logistic Regression Classifier\n",
    "from sklearn.linear_model import LogisticRegression\n",
    "# Linear Support Vector Machine\n",
    "from sklearn.svm import LinearSVC\n",
    "\n",
    "clf = LogisticRegression().fit(X_train_features, y_train)"
   ]
  },
  {
   "cell_type": "markdown",
   "metadata": {
    "id": "U2U_Dxg_qNBp"
   },
   "source": [
    "## Evaluating the Classification Model"
   ]
  },
  {
   "cell_type": "code",
   "execution_count": null,
   "metadata": {
    "id": "FXcrO5MQhCSz"
   },
   "outputs": [],
   "source": [
    "from sklearn.metrics import accuracy_score\n",
    "from sklearn.metrics import f1_score\n",
    "\n",
    "# predict labels for test data\n",
    "y_pred = clf.predict(X_test_features)"
   ]
  },
  {
   "cell_type": "code",
   "execution_count": null,
   "metadata": {
    "colab": {
     "base_uri": "https://localhost:8080/"
    },
    "executionInfo": {
     "elapsed": 197,
     "status": "ok",
     "timestamp": 1628480481377,
     "user": {
      "displayName": "Jiaao Chen",
      "photoUrl": "https://lh3.googleusercontent.com/a-/AOh14GjUCQMroRzHG3EnPAZN5SyYw0RfkKUVUh9qzYxZ=s64",
      "userId": "08215740097147588674"
     },
     "user_tz": 240
    },
    "id": "A7XxNf3Fra1g",
    "outputId": "288962cb-5e9a-44af-97a6-9ba642658d20"
   },
   "outputs": [
    {
     "data": {
      "text/plain": [
       "0.9020855425945564"
      ]
     },
     "execution_count": 43,
     "metadata": {
      "tags": []
     },
     "output_type": "execute_result"
    }
   ],
   "source": [
    "from sklearn.metrics import accuracy_score\n",
    "from sklearn.metrics import f1_score\n",
    "\n",
    "accuracy_score(y_test, y_pred)"
   ]
  },
  {
   "cell_type": "code",
   "execution_count": null,
   "metadata": {
    "colab": {
     "base_uri": "https://localhost:8080/"
    },
    "executionInfo": {
     "elapsed": 204,
     "status": "ok",
     "timestamp": 1628480506182,
     "user": {
      "displayName": "Jiaao Chen",
      "photoUrl": "https://lh3.googleusercontent.com/a-/AOh14GjUCQMroRzHG3EnPAZN5SyYw0RfkKUVUh9qzYxZ=s64",
      "userId": "08215740097147588674"
     },
     "user_tz": 240
    },
    "id": "GnDmjFNIACap",
    "outputId": "54db927e-3e65-478b-84c5-6b74343dba47"
   },
   "outputs": [
    {
     "data": {
      "text/plain": [
       "0.8999629673074958"
      ]
     },
     "execution_count": 45,
     "metadata": {
      "tags": []
     },
     "output_type": "execute_result"
    }
   ],
   "source": [
    "f1_score(y_test, y_pred, average='macro')"
   ]
  },
  {
   "cell_type": "code",
   "execution_count": null,
   "metadata": {
    "colab": {
     "base_uri": "https://localhost:8080/"
    },
    "executionInfo": {
     "elapsed": 201,
     "status": "ok",
     "timestamp": 1628480517887,
     "user": {
      "displayName": "Jiaao Chen",
      "photoUrl": "https://lh3.googleusercontent.com/a-/AOh14GjUCQMroRzHG3EnPAZN5SyYw0RfkKUVUh9qzYxZ=s64",
      "userId": "08215740097147588674"
     },
     "user_tz": 240
    },
    "id": "aJgJxb9NAEre",
    "outputId": "62127972-ad63-4bb8-806b-73a2ff50ee78"
   },
   "outputs": [
    {
     "data": {
      "text/plain": [
       "0.9020855425945564"
      ]
     },
     "execution_count": 46,
     "metadata": {
      "tags": []
     },
     "output_type": "execute_result"
    }
   ],
   "source": [
    "f1_score(y_test, y_pred, average='micro')"
   ]
  },
  {
   "cell_type": "code",
   "execution_count": null,
   "metadata": {
    "id": "1STo7mylALUz"
   },
   "outputs": [],
   "source": []
  },
  {
   "cell_type": "markdown",
   "metadata": {
    "id": "R6HaX33KMvvB"
   },
   "source": [
    "# Exercise: Text Classification\n",
    "\n",
    "1. You could first follow the example above and apply the codes to the hate-speech classification task. \n",
    "\n",
    "\n",
    "2. You could also try different [feature extractors](https://scikit-learn.org/stable/modules/classes.html#module-sklearn.feature_extraction.text) in sklearn and different classification model like `MultinomialNB` and `LinearSVC`. Will thses different combinations show better performances?  (Actually no single model/feature perform the best for all the tasks/datasets. You will need to explore different combinations to select the best methods for your own task in the future.)\n",
    "\n",
    "3. Based on the example above and word embeddings leaned from previous lecture, could you try to build a Logistic Regression Classifier with embeddings as the input feature? Will you achieve better performances than tf-idf input features?(Hint: To transform the input text to vector representations/features, you could refer to the codes we did in text clustering section.)\n",
    "\n",
    "\n",
    "***WARNING: The data, lexicons, and notebooks all contain content that is racist, sexist, homophobic, and offensive in many other ways. ***\n",
    "\n"
   ]
  },
  {
   "cell_type": "markdown",
   "metadata": {
    "id": "rL8qxxC4QKUO"
   },
   "source": [
    "First, let's download the dataset first.\n",
    "\n",
    "The dataset is from `Thomas Davidson, Dana Warmsley, Michael Macy, and Ingmar Weber. 2017. \"Automated Hate Speech Detection and the Problem of Offensive Language.\" ICWSM`\n",
    "\n",
    "More details could be found here: https://github.com/t-davidson/hate-speech-and-offensive-language"
   ]
  },
  {
   "cell_type": "code",
   "execution_count": 47,
   "metadata": {
    "colab": {
     "base_uri": "https://localhost:8080/"
    },
    "executionInfo": {
     "elapsed": 2530,
     "status": "ok",
     "timestamp": 1628484779708,
     "user": {
      "displayName": "Jiaao Chen",
      "photoUrl": "https://lh3.googleusercontent.com/a-/AOh14GjUCQMroRzHG3EnPAZN5SyYw0RfkKUVUh9qzYxZ=s64",
      "userId": "08215740097147588674"
     },
     "user_tz": 240
    },
    "id": "rLDcq25hQYTZ",
    "outputId": "565cbf06-a05a-40d6-ad19-95c2830a0b2f"
   },
   "outputs": [
    {
     "name": "stdout",
     "output_type": "stream",
     "text": [
      "Cloning into 'hate-speech-and-offensive-language'...\n",
      "remote: Enumerating objects: 32, done.\u001b[K\n",
      "remote: Total 32 (delta 0), reused 0 (delta 0), pack-reused 32\u001b[K\n",
      "Unpacking objects: 100% (32/32), done.\n"
     ]
    }
   ],
   "source": [
    "!git clone https://github.com/t-davidson/hate-speech-and-offensive-language.git"
   ]
  },
  {
   "cell_type": "code",
   "execution_count": 48,
   "metadata": {
    "executionInfo": {
     "elapsed": 185,
     "status": "ok",
     "timestamp": 1628484819403,
     "user": {
      "displayName": "Jiaao Chen",
      "photoUrl": "https://lh3.googleusercontent.com/a-/AOh14GjUCQMroRzHG3EnPAZN5SyYw0RfkKUVUh9qzYxZ=s64",
      "userId": "08215740097147588674"
     },
     "user_tz": 240
    },
    "id": "4EldPnjCQbMB"
   },
   "outputs": [],
   "source": [
    "import pandas as pd\n",
    "raw_data = pd.read_csv('./hate-speech-and-offensive-language/data/labeled_data.csv')"
   ]
  },
  {
   "cell_type": "code",
   "execution_count": 49,
   "metadata": {
    "colab": {
     "base_uri": "https://localhost:8080/",
     "height": 419
    },
    "executionInfo": {
     "elapsed": 186,
     "status": "ok",
     "timestamp": 1628484823938,
     "user": {
      "displayName": "Jiaao Chen",
      "photoUrl": "https://lh3.googleusercontent.com/a-/AOh14GjUCQMroRzHG3EnPAZN5SyYw0RfkKUVUh9qzYxZ=s64",
      "userId": "08215740097147588674"
     },
     "user_tz": 240
    },
    "id": "wV1c_--aQlf_",
    "outputId": "6268534d-3ee7-4b29-d11b-9421dd8ecf69"
   },
   "outputs": [
    {
     "data": {
      "text/html": [
       "<div>\n",
       "<style scoped>\n",
       "    .dataframe tbody tr th:only-of-type {\n",
       "        vertical-align: middle;\n",
       "    }\n",
       "\n",
       "    .dataframe tbody tr th {\n",
       "        vertical-align: top;\n",
       "    }\n",
       "\n",
       "    .dataframe thead th {\n",
       "        text-align: right;\n",
       "    }\n",
       "</style>\n",
       "<table border=\"1\" class=\"dataframe\">\n",
       "  <thead>\n",
       "    <tr style=\"text-align: right;\">\n",
       "      <th></th>\n",
       "      <th>Unnamed: 0</th>\n",
       "      <th>count</th>\n",
       "      <th>hate_speech</th>\n",
       "      <th>offensive_language</th>\n",
       "      <th>neither</th>\n",
       "      <th>class</th>\n",
       "      <th>tweet</th>\n",
       "    </tr>\n",
       "  </thead>\n",
       "  <tbody>\n",
       "    <tr>\n",
       "      <th>0</th>\n",
       "      <td>0</td>\n",
       "      <td>3</td>\n",
       "      <td>0</td>\n",
       "      <td>0</td>\n",
       "      <td>3</td>\n",
       "      <td>2</td>\n",
       "      <td>!!! RT @mayasolovely: As a woman you shouldn't...</td>\n",
       "    </tr>\n",
       "    <tr>\n",
       "      <th>1</th>\n",
       "      <td>1</td>\n",
       "      <td>3</td>\n",
       "      <td>0</td>\n",
       "      <td>3</td>\n",
       "      <td>0</td>\n",
       "      <td>1</td>\n",
       "      <td>!!!!! RT @mleew17: boy dats cold...tyga dwn ba...</td>\n",
       "    </tr>\n",
       "    <tr>\n",
       "      <th>2</th>\n",
       "      <td>2</td>\n",
       "      <td>3</td>\n",
       "      <td>0</td>\n",
       "      <td>3</td>\n",
       "      <td>0</td>\n",
       "      <td>1</td>\n",
       "      <td>!!!!!!! RT @UrKindOfBrand Dawg!!!! RT @80sbaby...</td>\n",
       "    </tr>\n",
       "    <tr>\n",
       "      <th>3</th>\n",
       "      <td>3</td>\n",
       "      <td>3</td>\n",
       "      <td>0</td>\n",
       "      <td>2</td>\n",
       "      <td>1</td>\n",
       "      <td>1</td>\n",
       "      <td>!!!!!!!!! RT @C_G_Anderson: @viva_based she lo...</td>\n",
       "    </tr>\n",
       "    <tr>\n",
       "      <th>4</th>\n",
       "      <td>4</td>\n",
       "      <td>6</td>\n",
       "      <td>0</td>\n",
       "      <td>6</td>\n",
       "      <td>0</td>\n",
       "      <td>1</td>\n",
       "      <td>!!!!!!!!!!!!! RT @ShenikaRoberts: The shit you...</td>\n",
       "    </tr>\n",
       "    <tr>\n",
       "      <th>...</th>\n",
       "      <td>...</td>\n",
       "      <td>...</td>\n",
       "      <td>...</td>\n",
       "      <td>...</td>\n",
       "      <td>...</td>\n",
       "      <td>...</td>\n",
       "      <td>...</td>\n",
       "    </tr>\n",
       "    <tr>\n",
       "      <th>24778</th>\n",
       "      <td>25291</td>\n",
       "      <td>3</td>\n",
       "      <td>0</td>\n",
       "      <td>2</td>\n",
       "      <td>1</td>\n",
       "      <td>1</td>\n",
       "      <td>you's a muthaf***in lie &amp;#8220;@LifeAsKing: @2...</td>\n",
       "    </tr>\n",
       "    <tr>\n",
       "      <th>24779</th>\n",
       "      <td>25292</td>\n",
       "      <td>3</td>\n",
       "      <td>0</td>\n",
       "      <td>1</td>\n",
       "      <td>2</td>\n",
       "      <td>2</td>\n",
       "      <td>you've gone and broke the wrong heart baby, an...</td>\n",
       "    </tr>\n",
       "    <tr>\n",
       "      <th>24780</th>\n",
       "      <td>25294</td>\n",
       "      <td>3</td>\n",
       "      <td>0</td>\n",
       "      <td>3</td>\n",
       "      <td>0</td>\n",
       "      <td>1</td>\n",
       "      <td>young buck wanna eat!!.. dat nigguh like I ain...</td>\n",
       "    </tr>\n",
       "    <tr>\n",
       "      <th>24781</th>\n",
       "      <td>25295</td>\n",
       "      <td>6</td>\n",
       "      <td>0</td>\n",
       "      <td>6</td>\n",
       "      <td>0</td>\n",
       "      <td>1</td>\n",
       "      <td>youu got wild bitches tellin you lies</td>\n",
       "    </tr>\n",
       "    <tr>\n",
       "      <th>24782</th>\n",
       "      <td>25296</td>\n",
       "      <td>3</td>\n",
       "      <td>0</td>\n",
       "      <td>0</td>\n",
       "      <td>3</td>\n",
       "      <td>2</td>\n",
       "      <td>~~Ruffled | Ntac Eileen Dahlia - Beautiful col...</td>\n",
       "    </tr>\n",
       "  </tbody>\n",
       "</table>\n",
       "<p>24783 rows × 7 columns</p>\n",
       "</div>"
      ],
      "text/plain": [
       "       Unnamed: 0  ...                                              tweet\n",
       "0               0  ...  !!! RT @mayasolovely: As a woman you shouldn't...\n",
       "1               1  ...  !!!!! RT @mleew17: boy dats cold...tyga dwn ba...\n",
       "2               2  ...  !!!!!!! RT @UrKindOfBrand Dawg!!!! RT @80sbaby...\n",
       "3               3  ...  !!!!!!!!! RT @C_G_Anderson: @viva_based she lo...\n",
       "4               4  ...  !!!!!!!!!!!!! RT @ShenikaRoberts: The shit you...\n",
       "...           ...  ...                                                ...\n",
       "24778       25291  ...  you's a muthaf***in lie &#8220;@LifeAsKing: @2...\n",
       "24779       25292  ...  you've gone and broke the wrong heart baby, an...\n",
       "24780       25294  ...  young buck wanna eat!!.. dat nigguh like I ain...\n",
       "24781       25295  ...              youu got wild bitches tellin you lies\n",
       "24782       25296  ...  ~~Ruffled | Ntac Eileen Dahlia - Beautiful col...\n",
       "\n",
       "[24783 rows x 7 columns]"
      ]
     },
     "execution_count": 49,
     "metadata": {
      "tags": []
     },
     "output_type": "execute_result"
    }
   ],
   "source": [
    "raw_data"
   ]
  },
  {
   "cell_type": "markdown",
   "metadata": {
    "id": "bDESnXEKQr4-"
   },
   "source": [
    "*count* = number of CrowdFlower users who coded each tweet (min is 3, sometimes more users coded a tweet when judgments were determined to be unreliable by CF).\n",
    "\n",
    "*hate_speech* = number of CF users who judged the tweet to be hate speech.\n",
    "\n",
    "*offensive_language* = number of CF users who judged the tweet to be offensive.\n",
    "\n",
    "*neither* = number of CF users who judged the tweet to be neither offensive nor non-offensive.\n",
    "\n",
    "*class* = class label for majority of CF users. 0 - hate speech 1 - offensive language 2 - neither"
   ]
  },
  {
   "cell_type": "code",
   "execution_count": 51,
   "metadata": {
    "executionInfo": {
     "elapsed": 407,
     "status": "ok",
     "timestamp": 1628484916499,
     "user": {
      "displayName": "Jiaao Chen",
      "photoUrl": "https://lh3.googleusercontent.com/a-/AOh14GjUCQMroRzHG3EnPAZN5SyYw0RfkKUVUh9qzYxZ=s64",
      "userId": "08215740097147588674"
     },
     "user_tz": 240
    },
    "id": "9F-hHIS1Qmmh"
   },
   "outputs": [],
   "source": [
    "# Read the text for classification\n",
    "text = []\n",
    "for i in range(0, len(raw_data['tweet'])):\n",
    "  text.append(raw_data['tweet'][i])\n",
    "\n",
    "# Read the labels \n",
    "labels = []\n",
    "for i in range(0, len(raw_data['class'])):\n",
    "  labels.append(raw_data['class'][i])"
   ]
  },
  {
   "cell_type": "code",
   "execution_count": null,
   "metadata": {
    "id": "RMrUpiAiQ8S_"
   },
   "outputs": [],
   "source": []
  }
 ],
 "metadata": {
  "colab": {
   "authorship_tag": "ABX9TyMq9ETcPcMYInk4W0R4geE5",
   "collapsed_sections": [],
   "name": "Text Classification.ipynb",
   "provenance": []
  },
  "kernelspec": {
   "display_name": "Python 3 (ipykernel)",
   "language": "python",
   "name": "python3"
  },
  "language_info": {
   "codemirror_mode": {
    "name": "ipython",
    "version": 3
   },
   "file_extension": ".py",
   "mimetype": "text/x-python",
   "name": "python",
   "nbconvert_exporter": "python",
   "pygments_lexer": "ipython3",
   "version": "3.9.12"
  }
 },
 "nbformat": 4,
 "nbformat_minor": 1
}
