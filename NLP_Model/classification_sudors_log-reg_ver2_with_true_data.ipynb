{
 "cells": [
  {
   "cell_type": "markdown",
   "id": "e8057399",
   "metadata": {},
   "source": [
    "# Classification of SUDORS vs. Non-SUDORS Autopsy Summaries with Logistic Regression"
   ]
  },
  {
   "cell_type": "code",
   "execution_count": 1,
   "id": "f3925898",
   "metadata": {},
   "outputs": [],
   "source": [
    "import pandas as pd\n",
    "import json\n",
    "import numpy as np\n",
    "import os\n",
    "import matplotlib.pyplot as plt\n",
    "import seaborn as sns\n",
    "import re\n",
    "import string\n",
    "import time\n",
    "from sklearn.model_selection import train_test_split\n",
    "from nltk.corpus import stopwords\n",
    "from sklearn.feature_extraction.text import CountVectorizer, TfidfVectorizer\n",
    "from sklearn.linear_model import LogisticRegression\n",
    "from sklearn import metrics\n",
    "from nltk.stem import PorterStemmer\n",
    "from imblearn.over_sampling import RandomOverSampler\n",
    "from imblearn.under_sampling import RandomUnderSampler"
   ]
  },
  {
   "cell_type": "code",
   "execution_count": 2,
   "id": "faa092ff",
   "metadata": {},
   "outputs": [],
   "source": [
    "narr_df = pd.read_feather(r'C:/Users/DC20B46/Documents/narratives_all_2019-2021h1_v2.feather')"
   ]
  },
  {
   "cell_type": "code",
   "execution_count": 25,
   "id": "e00b2d03",
   "metadata": {},
   "outputs": [
    {
     "data": {
      "text/plain": [
       "(17523, 4)"
      ]
     },
     "execution_count": 25,
     "metadata": {},
     "output_type": "execute_result"
    }
   ],
   "source": [
    "narr_df.shape"
   ]
  },
  {
   "cell_type": "code",
   "execution_count": 26,
   "id": "ace673ae",
   "metadata": {},
   "outputs": [
    {
     "data": {
      "text/plain": [
       "2021    6676\n",
       "2020    5891\n",
       "2019    4956\n",
       "Name: Year, dtype: int64"
      ]
     },
     "execution_count": 26,
     "metadata": {},
     "output_type": "execute_result"
    }
   ],
   "source": [
    "narr_df.Year.value_counts()"
   ]
  },
  {
   "cell_type": "code",
   "execution_count": 3,
   "id": "591f397f",
   "metadata": {},
   "outputs": [
    {
     "data": {
      "text/html": [
       "<div>\n",
       "<style scoped>\n",
       "    .dataframe tbody tr th:only-of-type {\n",
       "        vertical-align: middle;\n",
       "    }\n",
       "\n",
       "    .dataframe tbody tr th {\n",
       "        vertical-align: top;\n",
       "    }\n",
       "\n",
       "    .dataframe thead th {\n",
       "        text-align: right;\n",
       "    }\n",
       "</style>\n",
       "<table border=\"1\" class=\"dataframe\">\n",
       "  <thead>\n",
       "    <tr style=\"text-align: right;\">\n",
       "      <th></th>\n",
       "      <th>DID</th>\n",
       "      <th>forensic_center</th>\n",
       "      <th>Year</th>\n",
       "      <th>case</th>\n",
       "      <th>doc_clean</th>\n",
       "      <th>narr</th>\n",
       "      <th>interp</th>\n",
       "      <th>circ</th>\n",
       "      <th>has_narr</th>\n",
       "      <th>has_interp</th>\n",
       "      <th>has_circ</th>\n",
       "      <th>full_narr</th>\n",
       "      <th>full_narr_len</th>\n",
       "    </tr>\n",
       "  </thead>\n",
       "  <tbody>\n",
       "    <tr>\n",
       "      <th>0</th>\n",
       "      <td>2019022033</td>\n",
       "      <td>W</td>\n",
       "      <td>2019</td>\n",
       "      <td>0</td>\n",
       "      <td>office of the medical examiner west tennessee ...</td>\n",
       "      <td>narrative summary date of death type of death ...</td>\n",
       "      <td>summary and interpretation the decedent was a ...</td>\n",
       "      <td></td>\n",
       "      <td>1</td>\n",
       "      <td>1</td>\n",
       "      <td>0</td>\n",
       "      <td>narrative summary date of death type of death ...</td>\n",
       "      <td>2191</td>\n",
       "    </tr>\n",
       "    <tr>\n",
       "      <th>1</th>\n",
       "      <td>2019004303</td>\n",
       "      <td>W</td>\n",
       "      <td>2019</td>\n",
       "      <td>0</td>\n",
       "      <td>office of the medical examiner west tennessee ...</td>\n",
       "      <td>summary state number: 19-79-0106 case number: ...</td>\n",
       "      <td>summary and interpretation: this 41 year old m...</td>\n",
       "      <td></td>\n",
       "      <td>1</td>\n",
       "      <td>1</td>\n",
       "      <td>0</td>\n",
       "      <td>summary state number: 19-79-0106 case number: ...</td>\n",
       "      <td>2080</td>\n",
       "    </tr>\n",
       "    <tr>\n",
       "      <th>2</th>\n",
       "      <td>2019018448</td>\n",
       "      <td>W</td>\n",
       "      <td>2019</td>\n",
       "      <td>0</td>\n",
       "      <td>office of the medical examiner west tennessee ...</td>\n",
       "      <td>narrative summary state number: 19-79-0818 cas...</td>\n",
       "      <td>summary and interpretation the decedent was an...</td>\n",
       "      <td></td>\n",
       "      <td>1</td>\n",
       "      <td>1</td>\n",
       "      <td>0</td>\n",
       "      <td>narrative summary state number: 19-79-0818 cas...</td>\n",
       "      <td>3576</td>\n",
       "    </tr>\n",
       "  </tbody>\n",
       "</table>\n",
       "</div>"
      ],
      "text/plain": [
       "          DID forensic_center  Year  case  \\\n",
       "0  2019022033               W  2019     0   \n",
       "1  2019004303               W  2019     0   \n",
       "2  2019018448               W  2019     0   \n",
       "\n",
       "                                           doc_clean  \\\n",
       "0  office of the medical examiner west tennessee ...   \n",
       "1  office of the medical examiner west tennessee ...   \n",
       "2  office of the medical examiner west tennessee ...   \n",
       "\n",
       "                                                narr  \\\n",
       "0  narrative summary date of death type of death ...   \n",
       "1  summary state number: 19-79-0106 case number: ...   \n",
       "2  narrative summary state number: 19-79-0818 cas...   \n",
       "\n",
       "                                              interp circ  has_narr  \\\n",
       "0  summary and interpretation the decedent was a ...              1   \n",
       "1  summary and interpretation: this 41 year old m...              1   \n",
       "2  summary and interpretation the decedent was an...              1   \n",
       "\n",
       "   has_interp  has_circ                                          full_narr  \\\n",
       "0           1         0  narrative summary date of death type of death ...   \n",
       "1           1         0  summary state number: 19-79-0106 case number: ...   \n",
       "2           1         0  narrative summary state number: 19-79-0818 cas...   \n",
       "\n",
       "   full_narr_len  \n",
       "0           2191  \n",
       "1           2080  \n",
       "2           3576  "
      ]
     },
     "execution_count": 3,
     "metadata": {},
     "output_type": "execute_result"
    }
   ],
   "source": [
    "narr_df.head(3)"
   ]
  },
  {
   "cell_type": "code",
   "execution_count": 4,
   "id": "81dd3592",
   "metadata": {},
   "outputs": [
    {
     "data": {
      "text/html": [
       "<div>\n",
       "<style scoped>\n",
       "    .dataframe tbody tr th:only-of-type {\n",
       "        vertical-align: middle;\n",
       "    }\n",
       "\n",
       "    .dataframe tbody tr th {\n",
       "        vertical-align: top;\n",
       "    }\n",
       "\n",
       "    .dataframe thead th {\n",
       "        text-align: right;\n",
       "    }\n",
       "</style>\n",
       "<table border=\"1\" class=\"dataframe\">\n",
       "  <thead>\n",
       "    <tr style=\"text-align: right;\">\n",
       "      <th></th>\n",
       "      <th>DID</th>\n",
       "      <th>full_narr</th>\n",
       "      <th>case</th>\n",
       "      <th>Year</th>\n",
       "    </tr>\n",
       "  </thead>\n",
       "  <tbody>\n",
       "    <tr>\n",
       "      <th>0</th>\n",
       "      <td>2019022033</td>\n",
       "      <td>narrative summary date of death type of death ...</td>\n",
       "      <td>0</td>\n",
       "      <td>2019</td>\n",
       "    </tr>\n",
       "    <tr>\n",
       "      <th>1</th>\n",
       "      <td>2019004303</td>\n",
       "      <td>summary state number: 19-79-0106 case number: ...</td>\n",
       "      <td>0</td>\n",
       "      <td>2019</td>\n",
       "    </tr>\n",
       "    <tr>\n",
       "      <th>2</th>\n",
       "      <td>2019018448</td>\n",
       "      <td>narrative summary state number: 19-79-0818 cas...</td>\n",
       "      <td>0</td>\n",
       "      <td>2019</td>\n",
       "    </tr>\n",
       "    <tr>\n",
       "      <th>3</th>\n",
       "      <td>2021036263</td>\n",
       "      <td>narrative summary reportedly this 38 year-old ...</td>\n",
       "      <td>0</td>\n",
       "      <td>2021</td>\n",
       "    </tr>\n",
       "    <tr>\n",
       "      <th>4</th>\n",
       "      <td>2021047621</td>\n",
       "      <td>narrative summary the decedent was reported to...</td>\n",
       "      <td>0</td>\n",
       "      <td>2021</td>\n",
       "    </tr>\n",
       "  </tbody>\n",
       "</table>\n",
       "</div>"
      ],
      "text/plain": [
       "          DID                                          full_narr  case  Year\n",
       "0  2019022033  narrative summary date of death type of death ...     0  2019\n",
       "1  2019004303  summary state number: 19-79-0106 case number: ...     0  2019\n",
       "2  2019018448  narrative summary state number: 19-79-0818 cas...     0  2019\n",
       "3  2021036263  narrative summary reportedly this 38 year-old ...     0  2021\n",
       "4  2021047621  narrative summary the decedent was reported to...     0  2021"
      ]
     },
     "execution_count": 4,
     "metadata": {},
     "output_type": "execute_result"
    }
   ],
   "source": [
    "# Focus on full_narr, case, DID, and Year only:\n",
    "\n",
    "narr_df = narr_df[['DID', 'full_narr', 'case', 'Year']]\n",
    "narr_df.head()"
   ]
  },
  {
   "cell_type": "markdown",
   "id": "96ee38f0",
   "metadata": {},
   "source": [
    "### SUDORS Autopsy Class Distribution"
   ]
  },
  {
   "cell_type": "code",
   "execution_count": 6,
   "id": "b1f45111",
   "metadata": {},
   "outputs": [
    {
     "name": "stderr",
     "output_type": "stream",
     "text": [
      "C:\\Users\\DC20B46\\Anaconda3\\lib\\site-packages\\seaborn\\_decorators.py:36: FutureWarning: Pass the following variables as keyword args: x, y. From version 0.12, the only valid positional argument will be `data`, and passing other arguments without an explicit keyword will result in an error or misinterpretation.\n",
      "  warnings.warn(\n"
     ]
    },
    {
     "data": {
      "image/png": "[encoded data removed]",
      "text/plain": [
       "<Figure size 720x432 with 1 Axes>"
      ]
     },
     "metadata": {
      "needs_background": "light"
     },
     "output_type": "display_data"
    }
   ],
   "source": [
    "od_count = narr_df['case'].value_counts()\n",
    "od_count = od_count.sort_index()\n",
    "\n",
    "fig = plt.figure(figsize=(10, 6))\n",
    "ax = sns.barplot(od_count.index, od_count.values)\n",
    "plt.title(\"SUDORS Narrative Summaries Distribution\",fontsize = 20)\n",
    "plt.ylabel('Number of Narrative Summaries', fontsize = 12)\n",
    "plt.xlabel('SUDORS Narrative Summary', fontsize = 12);"
   ]
  },
  {
   "cell_type": "code",
   "execution_count": 7,
   "id": "c7720eb2",
   "metadata": {},
   "outputs": [
    {
     "data": {
      "text/plain": [
       "0    12588\n",
       "1     4935\n",
       "Name: case, dtype: int64"
      ]
     },
     "execution_count": 7,
     "metadata": {},
     "output_type": "execute_result"
    }
   ],
   "source": [
    "od_count"
   ]
  },
  {
   "cell_type": "code",
   "execution_count": 8,
   "id": "6f1f124b",
   "metadata": {},
   "outputs": [
    {
     "name": "stdout",
     "output_type": "stream",
     "text": [
      "0.7183701420989557\n"
     ]
    }
   ],
   "source": [
    "# baseline accuracy based on the number of SUDORS narrative summaries compared to the total number of narrative summaries\n",
    "print((12588/(12588+4935)))"
   ]
  },
  {
   "cell_type": "markdown",
   "id": "c63cdf81",
   "metadata": {},
   "source": [
    "### train-test split"
   ]
  },
  {
   "cell_type": "code",
   "execution_count": 9,
   "id": "51f416a8",
   "metadata": {},
   "outputs": [],
   "source": [
    "train, test = train_test_split(narr_df, test_size = 0.2, stratify = narr_df['case'], random_state = 42)"
   ]
  },
  {
   "cell_type": "markdown",
   "id": "1285ed42",
   "metadata": {},
   "source": [
    "## Text Preprocessing"
   ]
  },
  {
   "cell_type": "markdown",
   "id": "5bf365b8",
   "metadata": {},
   "source": [
    "### First, remove all non-letter characters, punctuations, and make sure all letters are in lower-cases. Later we will also evaluate the effect of removing stopwords and stemming/lemmatization."
   ]
  },
  {
   "cell_type": "code",
   "execution_count": 10,
   "id": "68c6463c",
   "metadata": {},
   "outputs": [],
   "source": [
    "punct = set(string.punctuation)"
   ]
  },
  {
   "cell_type": "code",
   "execution_count": 11,
   "id": "0bdfca63",
   "metadata": {},
   "outputs": [],
   "source": [
    "def text_prep(text):\n",
    "    #clean text\n",
    "    text = re.sub(r\"n't\", \" not \", text)\n",
    "    text = re.sub(r\"\\'s\", \" \", text)\n",
    "    text = re.sub(r\"\\'ve\", \" have \", text)\n",
    "    text = re.sub(r\"\\'re\", \" are \", text)\n",
    "    text = re.sub(r\"\\'d\", \" would \", text)\n",
    "    text = re.sub(r\"\\'ll\", \" will \", text)\n",
    "    \n",
    "    #remove non-letters and lower case\n",
    "    text = re.sub('[^a-z\\s]', '', text.lower())\n",
    "    \n",
    "    #remove punctuation        \n",
    "    punc_removed = [char for char in text if char not in punct]\n",
    "    punc_removed = ''.join(punc_removed)\n",
    "    \n",
    "    return [word for word in punc_removed.split()]"
   ]
  },
  {
   "cell_type": "markdown",
   "id": "43d91e4a",
   "metadata": {},
   "source": [
    "### binary feature representation, no stopwords removal or stemming, all unigrams"
   ]
  },
  {
   "cell_type": "code",
   "execution_count": 12,
   "id": "906a635b",
   "metadata": {},
   "outputs": [
    {
     "name": "stdout",
     "output_type": "stream",
     "text": [
      "Time takes to convert text input into feature vector:  0.14  mins\n"
     ]
    }
   ],
   "source": [
    "start_time = time.time()\n",
    "cv= CountVectorizer(binary=True, analyzer = text_prep, min_df = 10, max_df = 0.95)\n",
    "cv.fit_transform(train['full_narr'].values)\n",
    "train_feature_set=cv.transform(train['full_narr'].values)\n",
    "test_feature_set=cv.transform(test['full_narr'].values)\n",
    "print(\"Time takes to convert text input into feature vector: \", round((time.time() - start_time)/60, 2), \" mins\")"
   ]
  },
  {
   "cell_type": "code",
   "execution_count": 13,
   "id": "7f3fb36f",
   "metadata": {},
   "outputs": [
    {
     "data": {
      "text/plain": [
       "9518"
      ]
     },
     "execution_count": 13,
     "metadata": {},
     "output_type": "execute_result"
    }
   ],
   "source": [
    "train_feature_set.shape[1] # size of the vocabulary left in our corpus"
   ]
  },
  {
   "cell_type": "code",
   "execution_count": 14,
   "id": "ebe9a777",
   "metadata": {},
   "outputs": [
    {
     "data": {
      "text/plain": [
       "2157"
      ]
     },
     "execution_count": 14,
     "metadata": {},
     "output_type": "execute_result"
    }
   ],
   "source": [
    "cv.vocabulary_['decedent']"
   ]
  },
  {
   "cell_type": "markdown",
   "id": "cc192bfa",
   "metadata": {},
   "source": [
    "### Fit Logistic Regression Model"
   ]
  },
  {
   "cell_type": "code",
   "execution_count": 16,
   "id": "68874878",
   "metadata": {},
   "outputs": [],
   "source": [
    "y_train = train['case'].values\n",
    "y_test = test['case'].values"
   ]
  },
  {
   "cell_type": "code",
   "execution_count": 17,
   "id": "fdbdf379",
   "metadata": {},
   "outputs": [
    {
     "name": "stdout",
     "output_type": "stream",
     "text": [
      "Time takes to train model and make predictions:  0.05  mins\n"
     ]
    }
   ],
   "source": [
    "start_time = time.time()\n",
    "lr = LogisticRegression(solver = 'liblinear', random_state = 42, max_iter=1000)\n",
    "lr.fit(train_feature_set,y_train)\n",
    "y_pred = lr.predict(test_feature_set)\n",
    "print(\"Time takes to train model and make predictions: \", round((time.time() - start_time)/60, 2), \" mins\")"
   ]
  },
  {
   "cell_type": "code",
   "execution_count": 23,
   "id": "77cc2924",
   "metadata": {},
   "outputs": [
    {
     "name": "stdout",
     "output_type": "stream",
     "text": [
      "Accuracy:  0.922\n",
      "F1:  0.861\n",
      "Precision:  0.857\n",
      "Recall:  0.865\n",
      "ROC_AUC:  0.904\n"
     ]
    }
   ],
   "source": [
    "print(\"Accuracy: \",round(metrics.accuracy_score(y_test,y_pred),3))\n",
    "print(\"F1: \",round(metrics.f1_score(y_test, y_pred),3))\n",
    "print(\"Precision: \", round(metrics.precision_score(y_test, y_pred),3))\n",
    "print(\"Recall: \", round(metrics.recall_score(y_test, y_pred),3))\n",
    "print(\"ROC_AUC: \", round(metrics.roc_auc_score(y_test, y_pred),3))"
   ]
  },
  {
   "cell_type": "code",
   "execution_count": 24,
   "id": "ad59aeee",
   "metadata": {},
   "outputs": [
    {
     "name": "stderr",
     "output_type": "stream",
     "text": [
      "C:\\Users\\DC20B46\\Anaconda3\\lib\\site-packages\\sklearn\\utils\\deprecation.py:87: FutureWarning: Function plot_confusion_matrix is deprecated; Function `plot_confusion_matrix` is deprecated in 1.0 and will be removed in 1.2. Use one of the class methods: ConfusionMatrixDisplay.from_predictions or ConfusionMatrixDisplay.from_estimator.\n",
      "  warnings.warn(msg, category=FutureWarning)\n"
     ]
    },
    {
     "data": {
      "image/png": "[encoded data removed]",
      "text/plain": [
       "<Figure size 432x288 with 2 Axes>"
      ]
     },
     "metadata": {
      "needs_background": "light"
     },
     "output_type": "display_data"
    }
   ],
   "source": [
    "disp = metrics.plot_confusion_matrix(lr, test_feature_set, y_test,\n",
    "                                 display_labels=['Class 0', 'Class 1'],\n",
    "                                 cmap=plt.cm.Blues,\n",
    "                                 normalize='true')\n",
    "disp.ax_.set_title('Logistic Regression Confusion matrix, with normalization');"
   ]
  },
  {
   "cell_type": "code",
   "execution_count": 27,
   "id": "516cf47c",
   "metadata": {},
   "outputs": [
    {
     "name": "stdout",
     "output_type": "stream",
     "text": [
      "Feature:  aaron Score:  0.4693119282745139\n",
      "Feature:  ab Score:  -0.18951602127390746\n",
      "Feature:  abandoned Score:  -0.045845632030012434\n",
      "Feature:  abbi Score:  -0.36283551760592303\n",
      "Feature:  abbott Score:  -0.11033170140056338\n",
      "Feature:  abby Score:  -0.019476872068144403\n",
      "Feature:  abcgke Score:  -0.009008692580191779\n",
      "Feature:  abdomen Score:  -0.07679916216099074\n",
      "Feature:  abdominal Score:  -0.07191839592797666\n",
      "Feature:  ability Score:  -0.18519545149047598\n"
     ]
    }
   ],
   "source": [
    "feature_importance = lr.coef_[0][:10]\n",
    "for i,v in enumerate(feature_importance):\n",
    "    print('Feature: ', list(cv.vocabulary_.keys())[list(cv.vocabulary_.values()).index(i)], 'Score: ', v)"
   ]
  },
  {
   "cell_type": "code",
   "execution_count": 28,
   "id": "3a473ad2",
   "metadata": {},
   "outputs": [],
   "source": [
    "feature_importance = lr.coef_[0]\n",
    "sorted_idx = np.argsort(feature_importance)"
   ]
  },
  {
   "cell_type": "markdown",
   "id": "1915e74b",
   "metadata": {},
   "source": [
    "### Top words for the positive class (SUDORS narrative summaries):"
   ]
  },
  {
   "cell_type": "code",
   "execution_count": 29,
   "id": "8100c190",
   "metadata": {},
   "outputs": [
    {
     "name": "stdout",
     "output_type": "stream",
     "text": [
      "['intoxication', 'accident', 'toxicity', 'abs', 'effects', 'panel', 'narrative', 'cid', 'injected', 'material']\n"
     ]
    }
   ],
   "source": [
    "top_10_pos_w = [list(cv.vocabulary_.keys())[list(cv.vocabulary_.values()).index(w)] for w in sorted_idx[range(-1,-11, -1)]]\n",
    "print(top_10_pos_w)"
   ]
  },
  {
   "cell_type": "code",
   "execution_count": 39,
   "id": "d5c093ca",
   "metadata": {},
   "outputs": [
    {
     "name": "stderr",
     "output_type": "stream",
     "text": [
      "C:\\Users\\DC20B46\\Anaconda3\\lib\\site-packages\\seaborn\\_decorators.py:36: FutureWarning: Pass the following variables as keyword args: x, y. From version 0.12, the only valid positional argument will be `data`, and passing other arguments without an explicit keyword will result in an error or misinterpretation.\n",
      "  warnings.warn(\n"
     ]
    },
    {
     "data": {
      "image/png": "[encoded data removed]",
      "text/plain": [
       "<Figure size 720x432 with 1 Axes>"
      ]
     },
     "metadata": {
      "needs_background": "light"
     },
     "output_type": "display_data"
    }
   ],
   "source": [
    "fig = plt.figure(figsize=(10, 6))\n",
    "ax = sns.barplot(top_10_pos_w, feature_importance[sorted_idx[range(-1,-11, -1)]])\n",
    "plt.title(\"Most Important Words Used in SUDORS Narratives\",fontsize = 20)\n",
    "x_locs,x_labels = plt.xticks()\n",
    "plt.setp(x_labels, rotation = 40)\n",
    "plt.ylabel('Feature Importance', fontsize = 12)\n",
    "plt.xlabel('Word', fontsize = 12);"
   ]
  },
  {
   "cell_type": "markdown",
   "id": "b328cae3",
   "metadata": {},
   "source": [
    "#### Check all the narrative summaries that contain the word ‘overdose’ and see how many of them are in the SUDORS class:"
   ]
  },
  {
   "cell_type": "code",
   "execution_count": 33,
   "id": "405220aa",
   "metadata": {},
   "outputs": [
    {
     "data": {
      "text/plain": [
       "0.671"
      ]
     },
     "execution_count": 33,
     "metadata": {},
     "output_type": "execute_result"
    }
   ],
   "source": [
    "sub_poi = train.loc[train.full_narr.str.contains('overdose')]\n",
    "round(sub_poi.case.mean(),3)"
   ]
  },
  {
   "cell_type": "markdown",
   "id": "c6fcbc0a",
   "metadata": {},
   "source": [
    "### Top words for the negative class (non-SUDORS narrative summaries):"
   ]
  },
  {
   "cell_type": "code",
   "execution_count": 35,
   "id": "88845543",
   "metadata": {},
   "outputs": [
    {
     "name": "stdout",
     "output_type": "stream",
     "text": [
      "['inms', 'natural', 'lnms', 'dod', 'october', 'phenylpropanolamine', 'believes', 'manner', 'november', 'gunshot']\n"
     ]
    }
   ],
   "source": [
    "top_10_neg_w = [list(cv.vocabulary_.keys())[list(cv.vocabulary_.values()).index(w)] for w in sorted_idx[:10]]\n",
    "print(top_10_neg_w)"
   ]
  },
  {
   "cell_type": "code",
   "execution_count": 38,
   "id": "adbad3dd",
   "metadata": {},
   "outputs": [
    {
     "name": "stderr",
     "output_type": "stream",
     "text": [
      "C:\\Users\\DC20B46\\Anaconda3\\lib\\site-packages\\seaborn\\_decorators.py:36: FutureWarning: Pass the following variables as keyword args: x, y. From version 0.12, the only valid positional argument will be `data`, and passing other arguments without an explicit keyword will result in an error or misinterpretation.\n",
      "  warnings.warn(\n"
     ]
    },
    {
     "data": {
      "image/png": "[encoded data removed]",
      "text/plain": [
       "<Figure size 720x432 with 1 Axes>"
      ]
     },
     "metadata": {
      "needs_background": "light"
     },
     "output_type": "display_data"
    }
   ],
   "source": [
    "fig = plt.figure(figsize=(10, 6))\n",
    "ax = sns.barplot(top_10_neg_w, feature_importance[sorted_idx[:10]])\n",
    "plt.title(\"Most Important Words Used in Non-SUDORS Narratives\",fontsize = 20)\n",
    "x_locs,x_labels = plt.xticks()\n",
    "plt.setp(x_labels, rotation = 40)\n",
    "plt.ylabel('Feature Importance', fontsize = 12)\n",
    "plt.xlabel('Word', fontsize = 12);"
   ]
  },
  {
   "cell_type": "markdown",
   "id": "743432fe",
   "metadata": {},
   "source": [
    "## Improvement Strategies"
   ]
  },
  {
   "cell_type": "markdown",
   "id": "fbc3aed0",
   "metadata": {},
   "source": [
    "### After we establish the first model, examine couple of ideas to see if our model can be further improved."
   ]
  },
  {
   "cell_type": "markdown",
   "id": "7909f4e8",
   "metadata": {},
   "source": [
    "### 1: Decrease the probability cutoff threshold\n",
    "#### To reduce False Negatives, one intuition is to lower the cutoff threshold (default at 0.5). This would increase the recall but also decrease the precision. Therefore, we need to check if this would improve the overall F1 score:"
   ]
  },
  {
   "cell_type": "code",
   "execution_count": 58,
   "id": "f42c6876",
   "metadata": {},
   "outputs": [
    {
     "name": "stdout",
     "output_type": "stream",
     "text": [
      "\n",
      "******** For i = 0.2 ******\n",
      "AUC: 0.921\n",
      "F1: 0.844\n",
      "Recall: 0.973\n",
      "Precision: 0.745\n",
      "\n",
      "******** For i = 0.3 ******\n",
      "AUC: 0.924\n",
      "F1: 0.862\n",
      "Recall: 0.943\n",
      "Precision: 0.794\n",
      "\n",
      "******** For i = 0.4 ******\n",
      "AUC: 0.912\n",
      "F1: 0.859\n",
      "Recall: 0.899\n",
      "Precision: 0.824\n",
      "\n",
      "******** For i = 0.45 ******\n",
      "AUC: 0.901\n",
      "F1: 0.853\n",
      "Recall: 0.868\n",
      "Precision: 0.838\n",
      "\n",
      "******** For i = 0.5 ******\n",
      "AUC: 0.886\n",
      "F1: 0.839\n",
      "Recall: 0.832\n",
      "Precision: 0.846\n",
      "\n",
      "******** For i = 0.6 ******\n",
      "AUC: 0.847\n",
      "F1: 0.798\n",
      "Recall: 0.736\n",
      "Precision: 0.872\n",
      "\n",
      "******** For i = 0.7 ******\n",
      "AUC: 0.793\n",
      "F1: 0.728\n",
      "Recall: 0.614\n",
      "Precision: 0.894\n"
     ]
    }
   ],
   "source": [
    "pred_proba_df = pd.DataFrame(lr.predict_proba(test_feature_set))\n",
    "threshold_list = [0.2,0.3,0.4,0.45,0.5, 0.6, 0.7]\n",
    "for i in threshold_list:\n",
    "    print ('\\n******** For i = {} ******'.format(i))\n",
    "    Y_test_pred = pred_proba_df.applymap(lambda x: 1 if x>i else 0)\n",
    "    test_AUC = round(metrics.roc_auc_score(y_test, Y_test_pred.loc[:,1].values),3)\n",
    "    print('AUC: {}'.format(test_AUC))\n",
    "    test_f1 = round(metrics.f1_score(y_test, Y_test_pred.loc[:,1].values),3)\n",
    "    print('F1: {}'.format(test_f1))\n",
    "    test_recall = round(metrics.recall_score(y_test, Y_test_pred.loc[:,1].values),3)\n",
    "    print('Recall: {}'.format(test_recall))\n",
    "    test_precision = round(metrics.precision_score(y_test, Y_test_pred.loc[:,1].values),3)\n",
    "    print('Precision: {}'.format(test_precision))"
   ]
  },
  {
   "cell_type": "markdown",
   "id": "13a16535",
   "metadata": {},
   "source": [
    "#### Best F1 score for i = 0.3"
   ]
  },
  {
   "cell_type": "markdown",
   "id": "07c131af",
   "metadata": {},
   "source": [
    "### 2: Oversample Class 1 or undersample Class 0"
   ]
  },
  {
   "cell_type": "code",
   "execution_count": 48,
   "id": "7eef40c1",
   "metadata": {},
   "outputs": [
    {
     "name": "stdout",
     "output_type": "stream",
     "text": [
      "Time takes to train model and make predictions:  28.6  mins\n",
      "Accuracy:  0.916\n",
      "F1:  0.861\n",
      "Precision:  0.804\n",
      "Recall:  0.925\n",
      "ROC_AUC:  0.918\n"
     ]
    }
   ],
   "source": [
    "undersample = RandomUnderSampler(sampling_strategy='majority')\n",
    "X_under, y_under = undersample.fit_resample(train_feature_set,y_train)\n",
    "lr = LogisticRegression(solver = 'liblinear', random_state = 42, max_iter=1000)\n",
    "lr.fit(X_under,y_under)\n",
    "y_pred = lr.predict(test_feature_set)\n",
    "print(\"Time takes to train model and make predictions: \", round((time.time() - start_time)/60, 2), \" mins\")\n",
    "print(\"Accuracy: \",round(metrics.accuracy_score(y_test,y_pred),3))\n",
    "print(\"F1: \",round(metrics.f1_score(y_test, y_pred),3))\n",
    "print(\"Precision: \",round(metrics.precision_score(y_test,y_pred),3))\n",
    "print(\"Recall: \", round(metrics.recall_score(y_test,y_pred),3))\n",
    "print(\"ROC_AUC: \", round(metrics.roc_auc_score(y_test, y_pred),3))"
   ]
  },
  {
   "cell_type": "code",
   "execution_count": 47,
   "id": "75b09a1d",
   "metadata": {},
   "outputs": [
    {
     "name": "stdout",
     "output_type": "stream",
     "text": [
      "Time takes to train model and make predictions:  28.54  mins\n",
      "Accuracy:  0.923\n",
      "F1:  0.867\n",
      "Precision:  0.842\n",
      "Recall:  0.893\n",
      "ROC_AUC:  0.914\n"
     ]
    }
   ],
   "source": [
    "oversample = RandomOverSampler(sampling_strategy='minority')\n",
    "X_over, y_over = oversample.fit_resample(train_feature_set,y_train)\n",
    "lr = LogisticRegression(solver = 'liblinear', random_state = 42, max_iter=1000)\n",
    "lr.fit(X_over,y_over)\n",
    "y_pred = lr.predict(test_feature_set)\n",
    "print(\"Time takes to train model and make predictions: \", round((time.time() - start_time)/60, 2), \" mins\")\n",
    "print(\"Accuracy: \",round(metrics.accuracy_score(y_test,y_pred),3))\n",
    "print(\"F1: \",round(metrics.f1_score(y_test, y_pred),3))\n",
    "print(\"Precision: \",round(metrics.precision_score(y_test,y_pred),3))\n",
    "print(\"Recall: \", round(metrics.recall_score(y_test,y_pred),3))\n",
    "print(\"ROC_AUC: \", round(metrics.roc_auc_score(y_test, y_pred),3))"
   ]
  },
  {
   "cell_type": "markdown",
   "id": "1e1e7aa9",
   "metadata": {},
   "source": [
    "####  F1 score does not improve from oversampling or undersampling"
   ]
  },
  {
   "cell_type": "markdown",
   "id": "d1d29545",
   "metadata": {},
   "source": [
    "### 3: Remove stopwords and stemming"
   ]
  },
  {
   "cell_type": "code",
   "execution_count": 49,
   "id": "9ef502c2",
   "metadata": {},
   "outputs": [],
   "source": [
    "sw = set(stopwords.words(\"english\"))\n",
    "ps = PorterStemmer()"
   ]
  },
  {
   "cell_type": "code",
   "execution_count": 50,
   "id": "ea5debd3",
   "metadata": {},
   "outputs": [],
   "source": [
    "def text_prep_stop_stem(text):\n",
    "    #clean text\n",
    "    text = re.sub(r\"n't\", \" not \", text)\n",
    "    text = re.sub(r\"\\'s\", \" \", text)\n",
    "    text = re.sub(r\"\\'ve\", \" have \", text)\n",
    "    text = re.sub(r\"\\'re\", \" are \", text)\n",
    "    text = re.sub(r\"\\'d\", \" would \", text)\n",
    "    text = re.sub(r\"\\'ll\", \" will \", text)\n",
    "    \n",
    "    #remove non-letters and lower case\n",
    "    text = re.sub('[^a-z\\s]', '', text.lower())\n",
    "    \n",
    "    #remove punctuation        \n",
    "    punc_removed = [char for char in text if char not in punct]\n",
    "    punc_removed = ''.join(punc_removed)\n",
    "    \n",
    "    #stem and remove stop words\n",
    "    return [ps.stem(word) for word in punc_removed.split() if not word in sw]\n",
    "    #return [word for word in punc_removed.split() if not word in sw]"
   ]
  },
  {
   "cell_type": "code",
   "execution_count": 52,
   "id": "9b980804",
   "metadata": {},
   "outputs": [
    {
     "name": "stdout",
     "output_type": "stream",
     "text": [
      "Time takes to convert text input into feature vector:  1.72  mins\n"
     ]
    }
   ],
   "source": [
    "start_time = time.time()\n",
    "cv= CountVectorizer(binary=True, analyzer = text_prep_stop_stem, min_df = 10, max_df = 0.95)\n",
    "cv.fit_transform(train['full_narr'].values)\n",
    "train_feature_set=cv.transform(train['full_narr'].values)\n",
    "test_feature_set=cv.transform(test['full_narr'].values)\n",
    "print(\"Time takes to convert text input into feature vector: \", round((time.time() - start_time)/60, 2), \" mins\")"
   ]
  },
  {
   "cell_type": "code",
   "execution_count": 53,
   "id": "ae4dce7e",
   "metadata": {},
   "outputs": [
    {
     "data": {
      "text/plain": [
       "7621"
      ]
     },
     "execution_count": 53,
     "metadata": {},
     "output_type": "execute_result"
    }
   ],
   "source": [
    "train_feature_set.shape[1]   # previously the size of the vocabulary was 9,518"
   ]
  },
  {
   "cell_type": "code",
   "execution_count": 54,
   "id": "21d5b7f6",
   "metadata": {},
   "outputs": [
    {
     "name": "stdout",
     "output_type": "stream",
     "text": [
      "Time takes to train model and make predictions:  0.02  mins\n",
      "Accuracy:  0.92\n",
      "F1:  0.859\n",
      "Precision:  0.854\n",
      "Recall:  0.864\n",
      "ROC_AUC:  0.903\n"
     ]
    }
   ],
   "source": [
    "start_time = time.time()\n",
    "lr = LogisticRegression(solver = 'liblinear', random_state = 42, max_iter=1000)\n",
    "lr.fit(train_feature_set,y_train)\n",
    "y_pred = lr.predict(test_feature_set)\n",
    "print(\"Time takes to train model and make predictions: \", round((time.time() - start_time)/60, 2), \" mins\")\n",
    "print(\"Accuracy: \",round(metrics.accuracy_score(y_test,y_pred),3))\n",
    "print(\"F1: \",round(metrics.f1_score(y_test, y_pred),3))\n",
    "print(\"Precision: \",round(metrics.precision_score(y_test,y_pred),3))\n",
    "print(\"Recall: \", round(metrics.recall_score(y_test,y_pred),3))\n",
    "print(\"ROC_AUC: \", round(metrics.roc_auc_score(y_test, y_pred),3))"
   ]
  },
  {
   "cell_type": "markdown",
   "id": "c5e0785d",
   "metadata": {},
   "source": [
    "#### F1 score and accuracy actually decreased by a small amount"
   ]
  },
  {
   "cell_type": "markdown",
   "id": "853fd733",
   "metadata": {},
   "source": [
    "### 4: Use TF-IDF instead of binary representation"
   ]
  },
  {
   "cell_type": "code",
   "execution_count": 56,
   "id": "27921dee",
   "metadata": {},
   "outputs": [
    {
     "name": "stdout",
     "output_type": "stream",
     "text": [
      "Time takes to convert text input into feature vector:  0.14  mins\n"
     ]
    }
   ],
   "source": [
    "start_time = time.time()\n",
    "tfidf_v=TfidfVectorizer(use_idf=True, analyzer = text_prep, min_df = 10, max_df = 0.95)\n",
    "tfidf_v.fit_transform(train['full_narr'].values)\n",
    "train_feature_set=tfidf_v.transform(train['full_narr'].values)\n",
    "test_feature_set=tfidf_v.transform(test['full_narr'].values)\n",
    "print(\"Time takes to convert text input into feature vector: \", round((time.time() - start_time)/60, 2), \" mins\")"
   ]
  },
  {
   "cell_type": "code",
   "execution_count": 57,
   "id": "0ca7d7ad",
   "metadata": {},
   "outputs": [
    {
     "name": "stdout",
     "output_type": "stream",
     "text": [
      "Time takes to train model and make predictions:  0.01  mins\n",
      "Accuracy:  0.91\n",
      "F1:  0.839\n",
      "Precision:  0.846\n",
      "Recall:  0.832\n",
      "ROC_AUC:  0.886\n"
     ]
    }
   ],
   "source": [
    "start_time = time.time()\n",
    "lr = LogisticRegression(solver = 'liblinear', random_state = 42, max_iter=1000)\n",
    "lr.fit(train_feature_set,y_train)\n",
    "y_pred = lr.predict(test_feature_set)\n",
    "print(\"Time takes to train model and make predictions: \", round((time.time() - start_time)/60, 2), \" mins\")\n",
    "print(\"Accuracy: \",round(metrics.accuracy_score(y_test,y_pred),3))\n",
    "print(\"F1: \",round(metrics.f1_score(y_test, y_pred),3))\n",
    "print(\"Precision: \",round(metrics.precision_score(y_test,y_pred),3))\n",
    "print(\"Recall: \", round(metrics.recall_score(y_test,y_pred),3))\n",
    "print(\"ROC_AUC: \", round(metrics.roc_auc_score(y_test, y_pred),3))"
   ]
  },
  {
   "cell_type": "markdown",
   "id": "a0cfc883",
   "metadata": {},
   "source": [
    "### 5: Include both unigrams and bigrams as features"
   ]
  },
  {
   "cell_type": "code",
   "execution_count": 59,
   "id": "3a8f4e6c",
   "metadata": {},
   "outputs": [
    {
     "name": "stdout",
     "output_type": "stream",
     "text": [
      "Time takes to convert text input into feature vector:  0.21  mins\n"
     ]
    }
   ],
   "source": [
    "start_time = time.time()\n",
    "cv = CountVectorizer(binary=True, min_df = 10, max_df = 0.95, ngram_range=(1,2))\n",
    "cv.fit_transform(train['full_narr'].values)\n",
    "train_feature_set=cv.transform(train['full_narr'].values)\n",
    "test_feature_set=cv.transform(test['full_narr'].values)\n",
    "print(\"Time takes to convert text input into feature vector: \", round((time.time() - start_time)/60, 2), \" mins\")"
   ]
  },
  {
   "cell_type": "code",
   "execution_count": 60,
   "id": "bb11994f",
   "metadata": {},
   "outputs": [
    {
     "data": {
      "text/plain": [
       "52731"
      ]
     },
     "execution_count": 60,
     "metadata": {},
     "output_type": "execute_result"
    }
   ],
   "source": [
    "train_feature_set.shape[1] # After we take both unigrams and bigrams (sequence of two words) into consideration, \n",
    "# we first see an increase in vocabulary size:"
   ]
  },
  {
   "cell_type": "code",
   "execution_count": 94,
   "id": "fe0681ab",
   "metadata": {},
   "outputs": [],
   "source": [
    "# cv.vocabulary_"
   ]
  },
  {
   "cell_type": "code",
   "execution_count": 63,
   "id": "8c50a449",
   "metadata": {},
   "outputs": [
    {
     "name": "stdout",
     "output_type": "stream",
     "text": [
      "Time takes to train model and make predictions:  0.05  mins\n",
      "Accuracy:  0.947\n",
      "F1:  0.906\n",
      "Precision:  0.902\n",
      "Recall:  0.911\n",
      "ROC_AUC:  0.936\n"
     ]
    }
   ],
   "source": [
    "start_time = time.time()\n",
    "lr = LogisticRegression(solver = 'liblinear', random_state = 42, max_iter=1000)\n",
    "lr.fit(train_feature_set,y_train)\n",
    "y_pred = lr.predict(test_feature_set)\n",
    "print(\"Time takes to train model and make predictions: \", round((time.time() - start_time)/60, 2), \" mins\")\n",
    "print(\"Accuracy: \",round(metrics.accuracy_score(y_test,y_pred),3))\n",
    "print(\"F1: \",round(metrics.f1_score(y_test, y_pred),3))\n",
    "print(\"Precision: \",round(metrics.precision_score(y_test,y_pred),3))\n",
    "print(\"Recall: \", round(metrics.recall_score(y_test,y_pred),3))\n",
    "print(\"ROC_AUC: \", round(metrics.roc_auc_score(y_test, y_pred),3))"
   ]
  },
  {
   "cell_type": "code",
   "execution_count": 64,
   "id": "dd915235",
   "metadata": {},
   "outputs": [
    {
     "name": "stderr",
     "output_type": "stream",
     "text": [
      "C:\\Users\\DC20B46\\Anaconda3\\lib\\site-packages\\sklearn\\utils\\deprecation.py:87: FutureWarning: Function plot_confusion_matrix is deprecated; Function `plot_confusion_matrix` is deprecated in 1.0 and will be removed in 1.2. Use one of the class methods: ConfusionMatrixDisplay.from_predictions or ConfusionMatrixDisplay.from_estimator.\n",
      "  warnings.warn(msg, category=FutureWarning)\n"
     ]
    },
    {
     "data": {
      "image/png": "[encoded data removed]",
      "text/plain": [
       "<Figure size 432x288 with 2 Axes>"
      ]
     },
     "metadata": {
      "needs_background": "light"
     },
     "output_type": "display_data"
    }
   ],
   "source": [
    "disp = metrics.plot_confusion_matrix(lr, test_feature_set, y_test,\n",
    "                                 display_labels=['Class 0', 'Class 1'],\n",
    "                                 cmap=plt.cm.Blues,\n",
    "                                 normalize='true')\n",
    "disp.ax_.set_title('Logistic Regression Confusion matrix, with normalization');"
   ]
  },
  {
   "cell_type": "markdown",
   "id": "dfab90ac",
   "metadata": {},
   "source": [
    "#### After fitting this model, we see improvements in most metrics, especially in F1, accuracy, and AUC score."
   ]
  },
  {
   "cell_type": "code",
   "execution_count": 65,
   "id": "0715b43a",
   "metadata": {},
   "outputs": [
    {
     "name": "stdout",
     "output_type": "stream",
     "text": [
      "Feature:  00 Score:  0.06057186519778942\n",
      "Feature:  00 00 Score:  -0.06257933763571748\n",
      "Feature:  00 001 Score:  0.027876662856016837\n",
      "Feature:  00 09 Score:  -0.004168052389549659\n",
      "Feature:  00 70 Score:  0.027834871251063018\n",
      "Feature:  00 am Score:  -0.07054791215090621\n",
      "Feature:  00 and Score:  0.0833432934244404\n",
      "Feature:  00 autopsy Score:  0.00232079950685073\n",
      "Feature:  00 by Score:  0.010498012951623824\n",
      "Feature:  00 complete Score:  0.04007588341932751\n"
     ]
    }
   ],
   "source": [
    "feature_importance = lr.coef_[0][:10]\n",
    "for i,v in enumerate(feature_importance):\n",
    "    print('Feature: ', list(cv.vocabulary_.keys())[list(cv.vocabulary_.values()).index(i)], 'Score: ', v)"
   ]
  },
  {
   "cell_type": "markdown",
   "id": "18de1321",
   "metadata": {},
   "source": [
    "#### The new top 10 features for both SUDORS and non-SUDORS narrative summaries again"
   ]
  },
  {
   "cell_type": "code",
   "execution_count": 66,
   "id": "5cb947d1",
   "metadata": {},
   "outputs": [
    {
     "name": "stdout",
     "output_type": "stream",
     "text": [
      "['toxicity', 'accident', 'intoxication', 'toxic effects', 'accident the', 'fentanyl', 'abs', 'nms abs', 'narrative', 'overdose']\n"
     ]
    }
   ],
   "source": [
    "feature_importance = lr.coef_[0]\n",
    "sorted_idx = np.argsort(feature_importance)\n",
    "top_10_pos_w = [list(cv.vocabulary_.keys())[list(cv.vocabulary_.values()).index(w)] for w in sorted_idx[range(-1,-11, -1)]]\n",
    "print(top_10_pos_w)"
   ]
  },
  {
   "cell_type": "code",
   "execution_count": 67,
   "id": "12af351f",
   "metadata": {},
   "outputs": [
    {
     "name": "stdout",
     "output_type": "stream",
     "text": [
      "['natural', 'is natural', 'inms', 'inms nms', '2021', 'postmortem toxicological', 'of inms', 'mec21', 'gsw', 'of patient']\n"
     ]
    }
   ],
   "source": [
    "top_10_neg_w = [list(cv.vocabulary_.keys())[list(cv.vocabulary_.values()).index(w)] for w in sorted_idx[:10]]\n",
    "print(top_10_neg_w)"
   ]
  },
  {
   "cell_type": "code",
   "execution_count": 68,
   "id": "31c507c1",
   "metadata": {},
   "outputs": [
    {
     "name": "stderr",
     "output_type": "stream",
     "text": [
      "C:\\Users\\DC20B46\\Anaconda3\\lib\\site-packages\\seaborn\\_decorators.py:36: FutureWarning: Pass the following variables as keyword args: x, y. From version 0.12, the only valid positional argument will be `data`, and passing other arguments without an explicit keyword will result in an error or misinterpretation.\n",
      "  warnings.warn(\n"
     ]
    },
    {
     "data": {
      "image/png": "[encoded data removed]",
      "text/plain": [
       "<Figure size 720x432 with 1 Axes>"
      ]
     },
     "metadata": {
      "needs_background": "light"
     },
     "output_type": "display_data"
    }
   ],
   "source": [
    "fig = plt.figure(figsize=(10, 6))\n",
    "ax = sns.barplot(top_10_pos_w, feature_importance[sorted_idx[range(-1,-11, -1)]])\n",
    "plt.title(\"Most Important Words Used in SUDORS Narrative Summaries\",fontsize = 20)\n",
    "x_locs,x_labels = plt.xticks()\n",
    "plt.setp(x_labels, rotation = 40)\n",
    "plt.ylabel('Feature Importance', fontsize = 12)\n",
    "plt.xlabel('Word', fontsize = 12);"
   ]
  },
  {
   "cell_type": "code",
   "execution_count": 69,
   "id": "022c6a9f",
   "metadata": {},
   "outputs": [
    {
     "name": "stderr",
     "output_type": "stream",
     "text": [
      "C:\\Users\\DC20B46\\Anaconda3\\lib\\site-packages\\seaborn\\_decorators.py:36: FutureWarning: Pass the following variables as keyword args: x, y. From version 0.12, the only valid positional argument will be `data`, and passing other arguments without an explicit keyword will result in an error or misinterpretation.\n",
      "  warnings.warn(\n"
     ]
    },
    {
     "data": {
      "image/png": "[encoded data removed]",
      "text/plain": [
       "<Figure size 720x432 with 1 Axes>"
      ]
     },
     "metadata": {
      "needs_background": "light"
     },
     "output_type": "display_data"
    }
   ],
   "source": [
    "fig = plt.figure(figsize=(10, 6))\n",
    "ax = sns.barplot(top_10_neg_w, feature_importance[sorted_idx[:10]])\n",
    "plt.title(\"Most Important Words Used in Non-SUDORS Narrative Summaries\",fontsize = 20)\n",
    "x_locs,x_labels = plt.xticks()\n",
    "plt.setp(x_labels, rotation = 40)\n",
    "plt.ylabel('Feature Importance', fontsize = 12)\n",
    "plt.xlabel('Word', fontsize = 12);"
   ]
  },
  {
   "cell_type": "code",
   "execution_count": null,
   "id": "e1fc05df",
   "metadata": {},
   "outputs": [],
   "source": []
  }
 ],
 "metadata": {
  "kernelspec": {
   "display_name": "Python 3 (ipykernel)",
   "language": "python",
   "name": "python3"
  },
  "language_info": {
   "codemirror_mode": {
    "name": "ipython",
    "version": 3
   },
   "file_extension": ".py",
   "mimetype": "text/x-python",
   "name": "python",
   "nbconvert_exporter": "python",
   "pygments_lexer": "ipython3",
   "version": "3.9.12"
  }
 },
 "nbformat": 4,
 "nbformat_minor": 5
}
